{
 "cells": [
  {
   "cell_type": "markdown",
   "id": "e121ae91",
   "metadata": {},
   "source": [
    "# 1\n"
   ]
  },
  {
   "cell_type": "code",
   "execution_count": null,
   "id": "542dcbc0",
   "metadata": {},
   "outputs": [
    {
     "name": "stdout",
     "output_type": "stream",
     "text": [
      "Enter your age: 0\n",
      "The entry fee is FREE for you.\n"
     ]
    }
   ],
   "source": [
    "age_range = [ ]\n",
    "\n",
    "age = 0\n",
    "while age != \"quit\":\n",
    "    age = int(input(\"Enter your age: \"))\n",
    "    if age < 3:\n",
    "        print(\"The entry fee is FREE for you.\")\n",
    "    elif 3 <= age < 12:\n",
    "        print(\"The entry fee is $14 for you.\")\n",
    "    elif age >= 65:\n",
    "        print(\"The entry fee is $18 for you.\")\n",
    "    elif 13 <= age < 65:\n",
    "        print(\"Your fee is $23\")"
   ]
  },
  {
   "cell_type": "code",
   "execution_count": null,
   "id": "b263bec1",
   "metadata": {},
   "outputs": [],
   "source": []
  },
  {
   "cell_type": "markdown",
   "id": "50979e6a",
   "metadata": {},
   "source": [
    "# 2"
   ]
  },
  {
   "cell_type": "code",
   "execution_count": 54,
   "id": "04455568",
   "metadata": {},
   "outputs": [
    {
     "name": "stdout",
     "output_type": "stream",
     "text": [
      "([4.95, 9.95, 14.95, 19.95, 24.95], 2.97, 1.98)\n",
      "([4.95, 9.95, 14.95, 19.95, 24.95], 5.97, 3.98)\n",
      "([4.95, 9.95, 14.95, 19.95, 24.95], 8.97, 5.98)\n",
      "([4.95, 9.95, 14.95, 19.95, 24.95], 11.97, 7.98)\n",
      "([4.95, 9.95, 14.95, 19.95, 24.95], 14.97, 9.98)\n"
     ]
    }
   ],
   "source": [
    "retail = [4.95, 9.95, 14.95, 19.95, 24.95]\n",
    "\n",
    "for i in retail:\n",
    "        disc = (i * 60/100)\n",
    "        disc_price = round((i- i * 60/100), 4)\n",
    "        new_price = (retail, disc, disc_price)\n",
    "        print(new_price)"
   ]
  },
  {
   "cell_type": "code",
   "execution_count": 62,
   "id": "e67f050f",
   "metadata": {},
   "outputs": [
    {
     "ename": "TypeError",
     "evalue": "'float' object cannot be interpreted as an integer",
     "output_type": "error",
     "traceback": [
      "\u001b[1;31m---------------------------------------------------------------------------\u001b[0m",
      "\u001b[1;31mTypeError\u001b[0m                                 Traceback (most recent call last)",
      "\u001b[1;32m<ipython-input-62-b16f33d99fc4>\u001b[0m in \u001b[0;36m<module>\u001b[1;34m\u001b[0m\n\u001b[0;32m      3\u001b[0m \u001b[1;32mfor\u001b[0m \u001b[0mi\u001b[0m \u001b[1;32min\u001b[0m \u001b[0mretail\u001b[0m\u001b[1;33m:\u001b[0m\u001b[1;33m\u001b[0m\u001b[1;33m\u001b[0m\u001b[0m\n\u001b[0;32m      4\u001b[0m         \u001b[0mdisc\u001b[0m \u001b[1;33m=\u001b[0m \u001b[1;33m(\u001b[0m\u001b[0mi\u001b[0m \u001b[1;33m*\u001b[0m \u001b[1;36m60\u001b[0m\u001b[1;33m/\u001b[0m\u001b[1;36m100\u001b[0m\u001b[1;33m)\u001b[0m\u001b[1;33m\u001b[0m\u001b[1;33m\u001b[0m\u001b[0m\n\u001b[1;32m----> 5\u001b[1;33m         \u001b[0mdisc_price\u001b[0m \u001b[1;33m=\u001b[0m \u001b[0mround\u001b[0m\u001b[1;33m(\u001b[0m\u001b[1;33m(\u001b[0m\u001b[0mi\u001b[0m\u001b[1;33m-\u001b[0m \u001b[0mi\u001b[0m \u001b[1;33m*\u001b[0m \u001b[1;36m60\u001b[0m\u001b[1;33m/\u001b[0m\u001b[1;36m100\u001b[0m\u001b[1;33m)\u001b[0m\u001b[1;33m,\u001b[0m \u001b[0mi\u001b[0m\u001b[1;33m)\u001b[0m\u001b[1;33m\u001b[0m\u001b[1;33m\u001b[0m\u001b[0m\n\u001b[0m\u001b[0;32m      6\u001b[0m         \u001b[0mnew_price\u001b[0m \u001b[1;33m=\u001b[0m \u001b[1;33m(\u001b[0m\u001b[0mretail\u001b[0m\u001b[1;33m,\u001b[0m \u001b[0mdisc\u001b[0m\u001b[1;33m,\u001b[0m \u001b[0mdisc_price\u001b[0m\u001b[1;33m)\u001b[0m\u001b[1;33m\u001b[0m\u001b[1;33m\u001b[0m\u001b[0m\n\u001b[0;32m      7\u001b[0m         \u001b[0mprint\u001b[0m\u001b[1;33m(\u001b[0m\u001b[0mnew_price\u001b[0m\u001b[1;33m)\u001b[0m\u001b[1;33m\u001b[0m\u001b[1;33m\u001b[0m\u001b[0m\n",
      "\u001b[1;31mTypeError\u001b[0m: 'float' object cannot be interpreted as an integer"
     ]
    }
   ],
   "source": [
    "retail = [4.95, 9.95, 14.95, 19.95, 24.95]\n",
    "\n",
    "for i in retail:\n",
    "        disc = (i * 60/100)\n",
    "        disc_price = round((i- i * 60/100), )\n",
    "        new_price = (retail, disc, disc_price)\n",
    "        print(new_price)"
   ]
  },
  {
   "cell_type": "markdown",
   "id": "dac04bde",
   "metadata": {},
   "source": [
    "# 3"
   ]
  },
  {
   "cell_type": "code",
   "execution_count": 2,
   "id": "2d2d57a9",
   "metadata": {},
   "outputs": [
    {
     "name": "stdout",
     "output_type": "stream",
     "text": [
      "There is a 100 at index no: 11\n"
     ]
    }
   ],
   "source": [
    "lst=[10, 99, 98, 85, 22, 34, 78, 98, 12, 35, 13, 100, 80, 95]\n",
    "\n",
    "i = 0\n",
    "while i < len(lst):\n",
    "    if lst[i] == 100:\n",
    "        print(\"There is a 100 at index no: \" + str(i))\n",
    "    i = i+1"
   ]
  },
  {
   "cell_type": "markdown",
   "id": "d4e667b7",
   "metadata": {},
   "source": [
    "# 4"
   ]
  },
  {
   "cell_type": "code",
   "execution_count": 10,
   "id": "7f3544f5",
   "metadata": {},
   "outputs": [],
   "source": [
    "a = 40\n",
    "b = 20\n",
    "c = 2\n",
    "\n",
    "for x in range(a,b):\n",
    "    \n",
    "    if x % c == 0:\n",
    "        \n",
    "          print(x)\n",
    "        \n",
    "    else:\n",
    "          pass"
   ]
  },
  {
   "cell_type": "markdown",
   "id": "50608f20",
   "metadata": {},
   "source": [
    "I dont know why there is no output."
   ]
  },
  {
   "cell_type": "markdown",
   "id": "86e5d16f",
   "metadata": {},
   "source": [
    "# 5"
   ]
  },
  {
   "cell_type": "code",
   "execution_count": 3,
   "id": "37761439",
   "metadata": {},
   "outputs": [
    {
     "name": "stdout",
     "output_type": "stream",
     "text": [
      "Enter name: Amanda\n",
      "['Amanda']\n",
      "Enter name:  Muna\n",
      "['Amanda', ' Muna']\n",
      "Enter name:  Zina\n",
      "['Amanda', ' Muna', ' Zina']\n"
     ]
    }
   ],
   "source": [
    "names = []\n",
    "\n",
    "while len(names) < 3:\n",
    "    user_input = input(\"Enter name: \")\n",
    "    names.append(user_input)\n",
    "    print(names)"
   ]
  },
  {
   "cell_type": "markdown",
   "id": "f9505ae3",
   "metadata": {},
   "source": [
    "#  6"
   ]
  },
  {
   "cell_type": "code",
   "execution_count": 28,
   "id": "020de712",
   "metadata": {},
   "outputs": [
    {
     "name": "stdout",
     "output_type": "stream",
     "text": [
      "P\n",
      "y\n",
      "t\n",
      "h\n"
     ]
    }
   ],
   "source": [
    "string = \"Python\"\n",
    "\n",
    "for elem in string:\n",
    "    if elem == \"o\":\n",
    "        break\n",
    "    print(elem)"
   ]
  },
  {
   "cell_type": "markdown",
   "id": "c793ddec",
   "metadata": {},
   "source": [
    "# 7"
   ]
  },
  {
   "cell_type": "code",
   "execution_count": 10,
   "id": "78327f13",
   "metadata": {},
   "outputs": [
    {
     "name": "stdout",
     "output_type": "stream",
     "text": [
      "Enter Values: 0\n",
      "End of input.\n",
      "No input given\n"
     ]
    }
   ],
   "source": [
    "sum = 0.0\n",
    "count = 0\n",
    "while(1):\n",
    "    x=int(input(\"Enter Values: \"))\n",
    "    if x == 0:\n",
    "        print(\"End of input.\")\n",
    "        break;\n",
    "    sum+=x;\n",
    "    count+=1;\n",
    "if count == 0:\n",
    "    print(\"No input given\")\n",
    "else:\n",
    "    avg = sum/count;\n",
    "    print(\"Average is - \",avg)"
   ]
  },
  {
   "cell_type": "code",
   "execution_count": null,
   "id": "561d3f46",
   "metadata": {},
   "outputs": [],
   "source": []
  }
 ],
 "metadata": {
  "kernelspec": {
   "display_name": "Python 3",
   "language": "python",
   "name": "python3"
  },
  "language_info": {
   "codemirror_mode": {
    "name": "ipython",
    "version": 3
   },
   "file_extension": ".py",
   "mimetype": "text/x-python",
   "name": "python",
   "nbconvert_exporter": "python",
   "pygments_lexer": "ipython3",
   "version": "3.8.8"
  }
 },
 "nbformat": 4,
 "nbformat_minor": 5
}
